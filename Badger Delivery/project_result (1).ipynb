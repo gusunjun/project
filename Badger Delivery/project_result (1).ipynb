{
 "cells": [
  {
   "cell_type": "code",
   "execution_count": 12,
   "metadata": {
    "scrolled": true
   },
   "outputs": [
    {
     "data": {
      "text/html": [
       "<table class=\"data-frame\"><thead><tr><th></th><th>Adams</th><th>Barn&amp;ChadBradley</th><th>Column3</th><th>Cole&amp;Sull</th><th>Dav&amp;Sell</th><th>Dejo&amp;Phi</th><th>Dejo&amp;Phi_1</th><th>Kronshage</th></tr><tr><th></th><th>Int64</th><th>Int64</th><th>Int64</th><th>Int64</th><th>Int64</th><th>Int64</th><th>Int64</th><th>Int64</th></tr></thead><tbody><p>9 rows × 15 columns (omitted printing of 7 columns)</p><tr><th>1</th><td>1</td><td>3</td><td>0</td><td>0</td><td>2</td><td>0</td><td>2</td><td>3</td></tr><tr><th>2</th><td>2</td><td>6</td><td>0</td><td>0</td><td>3</td><td>0</td><td>3</td><td>5</td></tr><tr><th>3</th><td>4</td><td>12</td><td>0</td><td>0</td><td>5</td><td>0</td><td>5</td><td>10</td></tr><tr><th>4</th><td>7</td><td>20</td><td>0</td><td>0</td><td>8</td><td>0</td><td>9</td><td>17</td></tr><tr><th>5</th><td>9</td><td>25</td><td>0</td><td>0</td><td>11</td><td>0</td><td>12</td><td>21</td></tr><tr><th>6</th><td>9</td><td>25</td><td>0</td><td>0</td><td>11</td><td>0</td><td>12</td><td>21</td></tr><tr><th>7</th><td>7</td><td>20</td><td>0</td><td>0</td><td>8</td><td>0</td><td>9</td><td>17</td></tr><tr><th>8</th><td>4</td><td>12</td><td>0</td><td>0</td><td>5</td><td>0</td><td>6</td><td>10</td></tr><tr><th>9</th><td>2</td><td>6</td><td>0</td><td>0</td><td>3</td><td>0</td><td>3</td><td>5</td></tr></tbody></table>"
      ],
      "text/latex": [
       "\\begin{tabular}{r|ccccccccc}\n",
       "\t& Adams & Barn\\&ChadBradley & Column3 & Cole\\&Sull & Dav\\&Sell & Dejo\\&Phi & Dejo\\&Phi\\_1 & Kronshage & \\\\\n",
       "\t\\hline\n",
       "\t& Int64 & Int64 & Int64 & Int64 & Int64 & Int64 & Int64 & Int64 & \\\\\n",
       "\t\\hline\n",
       "\t1 & 1 & 3 & 0 & 0 & 2 & 0 & 2 & 3 & $\\dots$ \\\\\n",
       "\t2 & 2 & 6 & 0 & 0 & 3 & 0 & 3 & 5 & $\\dots$ \\\\\n",
       "\t3 & 4 & 12 & 0 & 0 & 5 & 0 & 5 & 10 & $\\dots$ \\\\\n",
       "\t4 & 7 & 20 & 0 & 0 & 8 & 0 & 9 & 17 & $\\dots$ \\\\\n",
       "\t5 & 9 & 25 & 0 & 0 & 11 & 0 & 12 & 21 & $\\dots$ \\\\\n",
       "\t6 & 9 & 25 & 0 & 0 & 11 & 0 & 12 & 21 & $\\dots$ \\\\\n",
       "\t7 & 7 & 20 & 0 & 0 & 8 & 0 & 9 & 17 & $\\dots$ \\\\\n",
       "\t8 & 4 & 12 & 0 & 0 & 5 & 0 & 6 & 10 & $\\dots$ \\\\\n",
       "\t9 & 2 & 6 & 0 & 0 & 3 & 0 & 3 & 5 & $\\dots$ \\\\\n",
       "\\end{tabular}\n"
      ],
      "text/plain": [
       "9×15 DataFrames.DataFrame. Omitted printing of 9 columns\n",
       "│ Row │ Adams │ Barn&ChadBradley │ Column3 │ Cole&Sull │ Dav&Sell │ Dejo&Phi │\n",
       "│     │ \u001b[90mInt64\u001b[39m │ \u001b[90mInt64\u001b[39m            │ \u001b[90mInt64\u001b[39m   │ \u001b[90mInt64\u001b[39m     │ \u001b[90mInt64\u001b[39m    │ \u001b[90mInt64\u001b[39m    │\n",
       "├─────┼───────┼──────────────────┼─────────┼───────────┼──────────┼──────────┤\n",
       "│ 1   │ 1     │ 3                │ 0       │ 0         │ 2        │ 0        │\n",
       "│ 2   │ 2     │ 6                │ 0       │ 0         │ 3        │ 0        │\n",
       "│ 3   │ 4     │ 12               │ 0       │ 0         │ 5        │ 0        │\n",
       "│ 4   │ 7     │ 20               │ 0       │ 0         │ 8        │ 0        │\n",
       "│ 5   │ 9     │ 25               │ 0       │ 0         │ 11       │ 0        │\n",
       "│ 6   │ 9     │ 25               │ 0       │ 0         │ 11       │ 0        │\n",
       "│ 7   │ 7     │ 20               │ 0       │ 0         │ 8        │ 0        │\n",
       "│ 8   │ 4     │ 12               │ 0       │ 0         │ 5        │ 0        │\n",
       "│ 9   │ 2     │ 6                │ 0       │ 0         │ 3        │ 0        │"
      ]
     },
     "execution_count": 12,
     "metadata": {},
     "output_type": "execute_result"
    }
   ],
   "source": [
    "using JuMP, Gurobi, CSV, LinearAlgebra\n",
    "# UW has access to a  fleet of 30 robots\n",
    "num_robot = 90\n",
    "# a robot can carry up to 20 pounds of food.\n",
    "carry_up = 30\n",
    "# one time the delivery fee is 1.99\n",
    "delivery_fee = 1.99\n",
    "# robots move at pedestrian speed\n",
    "#robots_ speed = 4\n",
    "# total carry\n",
    "R1 = CSV.read(\"data_fourLake.csv\")\n",
    "(p,q) = size(R1)\n",
    "time = CSV.read(\"dist_four.csv\")\n",
    "d = 3   # number of time periods added after all the orders have been received by cafeteria (To help find optimal solution)\n",
    "cost = 1  # cost of operation for each cart in one time period\n",
    "time_total = CSV.read(\"dist_four_final.csv\")\n",
    "period = [1 2 0 0 2 0 1 1 2 0 2 1 2 2 3] # number of period for making deliveries to \n",
    "R1"
   ]
  },
  {
   "cell_type": "code",
   "execution_count": 24,
   "metadata": {
    "scrolled": false
   },
   "outputs": [
    {
     "name": "stdout",
     "output_type": "stream",
     "text": [
      "Academic license - for non-commercial use only\r\n",
      "Academic license - for non-commercial use only\r\n"
     ]
    },
    {
     "data": {
      "text/plain": [
       "12×15 Array{Float64,2}:\n",
       "  1.0   3.0  0.0  0.0   2.0  0.0  …  -0.0   3.0   3.0   6.0   1.0    5.0\n",
       "  2.0   6.0  0.0  0.0   3.0  0.0     -0.0   5.0   4.0  10.0   2.0    9.0\n",
       "  4.0  12.0  0.0  0.0   5.0  0.0     -0.0  10.0   9.0  21.0   4.0   18.0\n",
       "  2.0  20.0  0.0  0.0   8.0  0.0     -0.0  16.0  14.0  34.0   7.0   -0.0\n",
       " 14.0  -0.0  0.0  0.0   9.0  0.0     -0.0  20.0  18.0  -0.0  -0.0   -0.0\n",
       "  0.0  44.0  0.0  0.0   6.0  0.0  …  -0.0   3.0  18.0  40.0  18.0   -0.0\n",
       " 16.0  17.0  0.0  0.0   8.0  0.0     -0.0  -0.0  14.0   6.0  -0.0   -0.0\n",
       "  4.0  21.0  0.0  0.0  12.0  0.0     -0.0  32.0   0.0  95.0  11.0   -0.0\n",
       "  2.0  -0.0  0.0  0.0  -0.0  0.0     -0.0  -0.0  13.0   6.0  -0.0   -0.0\n",
       " -0.0   6.0  0.0  0.0   3.0  0.0     39.0  16.0  -0.0   4.0   2.0  155.0\n",
       " -0.0  -0.0  0.0  0.0  -0.0  0.0  …  -0.0   0.0  -0.0  -0.0  -0.0   -0.0\n",
       " -0.0  -0.0  0.0  0.0  -0.0  0.0     -0.0  -0.0  -0.0  -0.0  -0.0   -0.0"
      ]
     },
     "execution_count": 24,
     "metadata": {},
     "output_type": "execute_result"
    }
   ],
   "source": [
    "using JuMP, Gurobi\n",
    "m = Model(with_optimizer(Gurobi.Optimizer,OutputFlag=0))\n",
    "\n",
    "# m = residence hall number;\n",
    "# n = time period;\n",
    "lamda = 100  # the weight of satisfaction compared to the cost (higher the lamda, higher the weight of satisfaction)\n",
    "@variable(m, x[1:(p+d),1:q]>=0,Int) # number of carts sent to each residential halls in each tme period\n",
    "@variable(m, y[1:(p+d),1:q]>=0,Int) # number of carts back from each residential halls in each time period\n",
    "@variable(m, cur[1:(p+d)]>=0, Int) # number of currently available carts\n",
    "@variable(m, order[1:(p+d), 1:q] >= 0, Int) # number of orders in cumulation\n",
    "# number of robots assigned to the day, and binary variable indicating when the robots can stop working \n",
    "@variable(m, robot, Int)\n",
    "@variable(m, order_bin[1:(p+d)], Bin) # 0 when current period has orders left, 1 when not# 多少个cycle可以乘以cost\n",
    "\n",
    "# all the orders must be delivered\n",
    "@constraint(m, sum(x[i, j] for i =1:(p+d), j = 1:q) == sum(R1[i,j] for i = 1:p, j = 1:q))\n",
    "for i = 1:(p+d)\n",
    "    # the available carts in each time period <= total number of robots\n",
    "    @constraint(m, cur[i] <= robot)\n",
    "    #in each time period, the number of carts sent out is smaller than the currently available carts\n",
    "    @constraint(m,sum(x[i,:]) <= cur[i]);\n",
    "end\n",
    "\n",
    "for j = 1:q\n",
    "    #all the orders in each residential halls must be delivered.\n",
    "   @constraint(m, sum(x[:,j]) == sum(R1[:,j])) \n",
    "end\n",
    "for i = 1:(p+d-1)\n",
    "     # when the number of orders left = 0, bin = 1; orders left = 1, bin = 0\n",
    "     @constraint(m, order_bin[i]*sum(order[i,:]) == 0)\n",
    "    # number of cars available in cycle (i+1) = number of available carts in cycle (i) + number of carts back in cycle (i) - \n",
    "    # number of carts sent out in cycle (i)\n",
    "     @constraint(m, cur[i+1] == cur[i] + sum(y[i+1, j] for j = 1:q) - sum(x[i,j] for j = 1:q)) # set current available robots\n",
    "     for j = 1:q\n",
    "        #number of carts go out <=number of culmulative orders for each residential hall\n",
    "        @constraint(m, x[i,j] <= order[i,j])\n",
    "        if i < p # when there are still incoming orders\n",
    "            #number of orders in cumulation in cycle (i+1) = number of orders in cumulation in cycle(i) \n",
    "            #+ number of orders arrive in cycle (i+1) - number of cycles sent out in cycle i.\n",
    "             @constraint(m, order[i+1,j] == order[i, j] - x[i, j] + R1[i+1,j]) \n",
    "        else \n",
    "            # number of orders in cycle i+1 = number of orders in cumulation in cycle(i) - number of cycles sent out in cycle i\n",
    "             @constraint(m, order[i+1,j] == order[i, j] - x[i, j])\n",
    "        end\n",
    "    end\n",
    "end\n",
    "\n",
    "\n",
    "for l = 1:q\n",
    "      #set up the number of cumulative orders in the first time period\n",
    "      @constraint(m, order[1,l] == R1[1,l])\n",
    "end\n",
    "\n",
    "\n",
    "# set up current available robots\n",
    "@constraint(m, cur[1] == robot)\n",
    "# constraint to make the robots be back at the right time\n",
    "for i = 1:(p+d-1) \n",
    "      for j=1:q\n",
    "        #set up the number of carts back from each residential hall (0)\n",
    "            @constraint(m, y[1 ,j] == 0)\n",
    "            if (period[j] > 0)\n",
    "                  if (period[j] >= i)   \n",
    "                        @constraint(m, y[i,j] == 0)   # the first several cycles are definitely 0    \n",
    "                  else\n",
    "                        # for the case that start getting carts back from that dorm\n",
    "                        @constraint(m, y[i,j] == x[(i-period[j]),j]) # when the cart is back\n",
    "                  end\n",
    "            else\n",
    "                  @constraint(m, y[i,j] == 0)\n",
    "            end\n",
    "      end\n",
    "end\n",
    "\n",
    "@objective(m, Min, sum(robot*cost*30*sum((p+d-order_bin[l]) for l = 1:(p+d)) for i = 1:(p+d)) + \n",
    "                lamda*(sum((x[i,j]*i*30 + time[j,1]) for i = 1:(p+d), j = 1:15) - sum(R1[i,j]*i*30 for i = 1:p, j = 1:q)))\n",
    "optimize!(m)\n",
    "value.(cur)\n",
    "result = value.(x)\n",
    "#value.(order)\n",
    "#value.(robot)\n",
    "#value(robot)"
   ]
  },
  {
   "cell_type": "code",
   "execution_count": null,
   "metadata": {},
   "outputs": [],
   "source": []
  }
 ],
 "metadata": {
  "kernelspec": {
   "display_name": "Julia 1.3.1",
   "language": "julia",
   "name": "julia-1.3"
  },
  "language_info": {
   "file_extension": ".jl",
   "mimetype": "application/julia",
   "name": "julia",
   "version": "1.3.1"
  }
 },
 "nbformat": 4,
 "nbformat_minor": 4
}
